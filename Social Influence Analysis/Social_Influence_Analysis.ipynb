{
 "cells": [
  {
   "cell_type": "markdown",
   "metadata": {},
   "source": [
    "# Independent Cascade Model on Facebook Social Circles Dataset"
   ]
  },
  {
   "cell_type": "markdown",
   "metadata": {},
   "source": [
    "Code borrowed from https://github.com/doinab/SN-influence-maximization/\n",
    "\n",
    "Dataset description: https://snap.stanford.edu/data/egonets-Facebook.html\n",
    "\n",
    "This dataset consists of 'circles' (or 'friends lists') from Facebook.\n",
    "- Nodes\t4039\n",
    "- Edges\t88234\n",
    "- Average clustering coefficient\t0.6055\n",
    "- Diameter (longest shortest path)\t8"
   ]
  },
  {
   "cell_type": "code",
   "execution_count": 1,
   "metadata": {
    "collapsed": true
   },
   "outputs": [],
   "source": [
    "from IPython.core.interactiveshell import InteractiveShell\n",
    "InteractiveShell.ast_node_interactivity = \"all\"\n",
    "%matplotlib inline\n",
    "import networkx as nx\n",
    "import random\n",
    "import numpy\n",
    "import math\n",
    "import time\n",
    "import sys"
   ]
  },
  {
   "cell_type": "code",
   "execution_count": 2,
   "metadata": {
    "collapsed": true
   },
   "outputs": [],
   "source": [
    "# Simulates the Independent Cascade propagation model \n",
    "# on graph G starting with the seed nodes in \"a\".\n",
    "# Returns the number of nodes reached by the propagation\n",
    "# -> Time complexity: a very worst case of O(V^3) (lower with lower \"p\")\n",
    "# -> Memory complexity: O(V)\n",
    "def IC_model(G, a, p):              # a: the set of initial active nodes\n",
    "                                    # p: the system-wide probability of influence on an edge, in [0,1]\n",
    "    A = set(a)                      # A: the set of active nodes, initially a\n",
    "    B = set(a)                      # B: the set of nodes activated in the last completed iteration\n",
    "    converged = False\n",
    "\n",
    "    while not converged:\n",
    "        nextB = set()\n",
    "        for n in B:\n",
    "            for m in set(G.neighbors(n)) - A:\n",
    "                prob = random.random()\t# in the range [0.0, 1.0)\n",
    "                if prob <= p:\n",
    "                    nextB.add(m)\n",
    "        B = set(nextB)\n",
    "        if not B:\n",
    "            converged = True\n",
    "        A |= B\n",
    "\n",
    "    return len(A)"
   ]
  },
  {
   "cell_type": "code",
   "execution_count": 3,
   "metadata": {
    "collapsed": true
   },
   "outputs": [],
   "source": [
    "# Simulates the Weighted Cascade propagation model \n",
    "# on graph G starting with the seed nodes in \"a\".\n",
    "# Returns the number of nodes reached by the propagation\n",
    "# -> Time complexity: a very worst case of O(V^3)\n",
    "# -> Memory complexity: O(V)\n",
    "def WC_model(G, a):                 # a: the set of initial active nodes\n",
    "                                    # each edge from node u to v is assigned probability 1/in-degree(v) of activating v\n",
    "    A = set(a)                      # A: the set of active nodes, initially a\n",
    "    B = set(a)                      # B: the set of nodes activated in the last completed iteration\n",
    "    converged = False\n",
    " \n",
    "    if nx.is_directed(G):\n",
    "        my_degree_function = G.in_degree\n",
    "    else:\n",
    "        my_degree_function = G.degree\n",
    "\n",
    "    while not converged:\n",
    "        nextB = set()\n",
    "        for n in B:\n",
    "            for m in set(G.neighbors(n)) - A:\n",
    "                prob = random.random()\t# in the range [0.0, 1.0)\n",
    "                p = 1.0/my_degree_function(m)\n",
    "                if prob <= p:\n",
    "                    nextB.add(m)\n",
    "        B = set(nextB)\n",
    "        if not B:\n",
    "            converged = True\n",
    "        A |= B\n",
    "\n",
    "    return len(A)\n"
   ]
  },
  {
   "cell_type": "code",
   "execution_count": 4,
   "metadata": {
    "collapsed": true
   },
   "outputs": [],
   "source": [
    "# Evaluates a given seed set A,\n",
    "# simulated \"no_simulations\" times\n",
    "# Returns a tuple: the mean, stdev, and 95% confidence interval\n",
    "def evaluate(G, A, p, no_simulations, model):\n",
    "    results = []\n",
    "\n",
    "    if model == 'WC':\n",
    "        for i in range(no_simulations):\n",
    "            results.append(WC_model(G, A))\n",
    "    elif model == 'IC':\n",
    "        for i in range(no_simulations):\n",
    "            results.append(IC_model(G, A, p))\n",
    "\n",
    "    return numpy.mean(results), numpy.std(results), 1.96 * numpy.std(results) / math.sqrt(no_simulations)"
   ]
  },
  {
   "cell_type": "code",
   "execution_count": 5,
   "metadata": {
    "collapsed": true
   },
   "outputs": [],
   "source": [
    "# Evaluates \"no_samples\" random seed sets A of size \"k\",\n",
    "# each simulated \"no_simulations\" times.\n",
    "# Returns a list of \"no_samples\" tuples (mean, stdev, and 95% confidence interval)\n",
    "def RND_evaluate(G, k, p, no_samples, no_simulations, model):\n",
    "    results = []\n",
    "\n",
    "    for i in range(no_samples):\n",
    "        A = random.sample(G.nodes(), k)\n",
    "        results.append(evaluate(G, A, p, no_simulations, model))\n",
    "    return results"
   ]
  },
  {
   "cell_type": "code",
   "execution_count": 6,
   "metadata": {},
   "outputs": [
    {
     "name": "stdout",
     "output_type": "stream",
     "text": [
      "[(195.15, 81.35445593205083, 15.94547336268196), (65.61, 76.87143747842887, 15.066801745772059), (16.7, 8.350449089719666, 1.6366880215850543), (144.8, 81.63516399199551, 16.00049214243112), (142.41, 110.41649288036638, 21.64163260455181), (214.9, 87.81588694535859, 17.211913841290283), (168.66, 81.37004608576795, 15.948529032810518), (163.48, 63.68398228754229, 12.48206052835829), (30.19, 51.33316569236696, 10.061300475703925), (169.45, 92.51793069454159, 18.13351441613015)]\n",
      "Elapsed time:  3.578125\n"
     ]
    }
   ],
   "source": [
    "p = 0.01                                # \"p\" only matters for IC_model\n",
    "k = 10\n",
    "model = 'IC'\n",
    "no_simulations = 100\n",
    "no_samples = 10\n",
    "\n",
    "# file = 'soc-Epinions1.txt'\n",
    "# file = 'wiki-Vote.txt'\n",
    "# file = 'amazon0302.txt'\n",
    "# file = 'web-Google.txt'\n",
    "# G = nx.read_edgelist(file, comments='#', delimiter='\\t', create_using=nx.DiGraph(), nodetype=int, data=False)\n",
    "file = 'facebook_combined.txt'\n",
    "G = nx.read_edgelist(file, comments='#', delimiter=' ', create_using=nx.Graph(), nodetype=int, data=False)\n",
    "\n",
    "tstart = time.process_time()\n",
    "print(RND_evaluate(G, k, p, no_samples, no_simulations, model))\n",
    "#print(evaluate(G, input_A(), p, no_simulations, model))\n",
    "print(\"Elapsed time: \", time.process_time() - tstart)"
   ]
  },
  {
   "cell_type": "markdown",
   "metadata": {},
   "source": [
    "# Influence maximization heuristics on wiki-Vote data."
   ]
  },
  {
   "cell_type": "markdown",
   "metadata": {},
   "source": [
    "Dataset description\n",
    "\n",
    "https://snap.stanford.edu/data/wiki-Vote.html\n",
    "  \n",
    "Wikipedia is a free encyclopedia written collaboratively by volunteers around the world. A small part of Wikipedia contributors are administrators, who are users with access to additional technical features that aid in maintenance. In order for a user to become an administrator a Request for adminship (RfA) is issued and the Wikipedia community via a public discussion or a vote decides who to promote to adminship. Using the latest complete dump of Wikipedia page edit history (from January 3 2008) we extracted all administrator elections and vote history data. This gave us 2,794 elections with 103,663 total votes and 7,066 users participating in the elections (either casting a vote or being voted on). Out of these 1,235 elections resulted in a successful promotion, while 1,559 elections did not result in the promotion. About half of the votes in the dataset are by existing admins, while the other half comes from ordinary Wikipedia users.\n",
    "\n",
    "The network contains all the Wikipedia voting data from the inception of Wikipedia till January 2008. Nodes in the network represent wikipedia users and a directed edge from node i to node j represents that user i voted on user j.\n",
    "\n",
    "- Nodes\t7115\n",
    "- Edges\t103689\n",
    "- Average clustering coefficient\t0.1409\n",
    "- Diameter (longest shortest path)\t7"
   ]
  },
  {
   "cell_type": "code",
   "execution_count": 7,
   "metadata": {
    "collapsed": true
   },
   "outputs": [],
   "source": [
    "import json\n",
    "import heapq as hq"
   ]
  },
  {
   "cell_type": "code",
   "execution_count": 8,
   "metadata": {
    "collapsed": true
   },
   "outputs": [],
   "source": [
    "# [Kempe et al.] \"The high-degree heuristic chooses nodes v in order of decreasing degrees. \n",
    "# 'degree centrality'\n",
    "# -> Calculates the k nodes of highest degree\n",
    "# -> Time complexity: O(V log (k))\n",
    "# -> Memory complexity: Theta(k)\n",
    "# H is the selected set of high influence nodes.\n",
    "def high_degree_nodes(k, G):\n",
    "\n",
    "    if nx.is_directed(G):\n",
    "        my_degree_function = G.out_degree\n",
    "    else:\n",
    "        my_degree_function = G.degree\n",
    "    x=list(G.nodes())\n",
    "    # the top k nodes to be returned; initialization with first k elements\n",
    "    H = [(my_degree_function(i), i) for i in x[0:k]] \n",
    "    hq.heapify(H)\n",
    "\n",
    "    # iterate through the remaining nodes; add to heap if larger than heap root\n",
    "    for i in x[k:]: \n",
    "        if my_degree_function(i) > H[0][0]:\n",
    "            hq.heappushpop(H, (my_degree_function(i), i))\n",
    " \n",
    "    return H\n"
   ]
  },
  {
   "cell_type": "code",
   "execution_count": 9,
   "metadata": {
    "collapsed": true
   },
   "outputs": [],
   "source": [
    "# The SingleDiscount algorithm by [Chen et al., KDD'09] for any cascade model.\n",
    "# -> Calculates the k nodes of highest degree, making discounts if direct neighbours are already chosen\n",
    "# -> Time complexity: O(V k^2)\n",
    "# -> Memory complexity: Theta(k)\n",
    "# D is the selected set of high influence nodes.\n",
    "def single_discount_high_degree_nodes(k, G):\n",
    "\n",
    "    if nx.is_directed(G):\n",
    "        my_degree_function = G.out_degree\n",
    "    else:\n",
    "        my_degree_function = G.degree\n",
    "\n",
    "    D = []\n",
    "\n",
    "    for i in range(k):\n",
    "        # find the node of max out_degree, discounting any out-edge\n",
    "        # to a node already in D\n",
    "        maxoutdeg_i = -1\n",
    "        v_i = -1\n",
    "        for v in list(set(G.nodes()) - set(D)):\n",
    "    \t    outdeg = my_degree_function(v)\n",
    "    \t    for u in D:\n",
    "                if G.has_edge(v, u):\n",
    "                    outdeg -= 1\n",
    "    \t    if outdeg > maxoutdeg_i:\n",
    "                maxoutdeg_i = outdeg\n",
    "                v_i = v\n",
    "\n",
    "        D.append(v_i)\n",
    "\n",
    "    return D"
   ]
  },
  {
   "cell_type": "code",
   "execution_count": 17,
   "metadata": {
    "collapsed": true
   },
   "outputs": [],
   "source": [
    "# The approximate greedy algorithm by [Kempe et al.] for any cascade model.\n",
    "# -> Calculates the k nodes of supposedly max influence, and that influence\n",
    "# -> Single-thread\n",
    "# -> Time complexity: O(V k Time(evaluate))\n",
    "# -> Memory complexity: Theta(k + Memory(evaluate))\n",
    "# S is the selected set of high influence nodes.\n",
    "def general_greedy(k, G, p, no_simulations, model):\n",
    "    S = []\n",
    "\n",
    "    for i in range(k):\n",
    "        maxinfl_i = (-1, -1)\n",
    "        v_i = -1\n",
    "        for v in list(set(G.nodes()) - set(S)):\n",
    "            eval_tuple = evaluate(G, S+[v], p, no_simulations, model)\n",
    "            #if v%100==0:\n",
    "            #    print(i,v, eval_tuple[0], eval_tuple[2])\n",
    "            if eval_tuple[0] > maxinfl_i[0]:\n",
    "                maxinfl_i = (eval_tuple[0], eval_tuple[2])\n",
    "                v_i = v\n",
    "\n",
    "        print('Simple Greedy Detail', i, v_i, maxinfl_i)\n",
    "        S.append(v_i)\n",
    "\n",
    "    return S, maxinfl_i"
   ]
  },
  {
   "cell_type": "code",
   "execution_count": 18,
   "metadata": {},
   "outputs": [
    {
     "name": "stdout",
     "output_type": "stream",
     "text": [
      "HIGHDEG 1 14.7 1.6305739357661768 [2565]\n",
      "SimpleDiscount 1 14.83 1.343438103375068 [2565]\n",
      "Simple Greedy Detail 0 766 (14.04, 1.3379552064250884)\n",
      "GENGREEDY 1 14.75 1.546879633326394 [766]\n",
      "HIGHDEG 2 27.92 1.7369360315221745 [766, 2565]\n",
      "SimpleDiscount 2 29.77 1.8927664286963672 [2565, 766]\n",
      "Simple Greedy Detail 0 2565 (15.83, 1.5828877969079174)\n",
      "Simple Greedy Detail 1 766 (30.24, 2.117003249501521)\n",
      "GENGREEDY 2 30.25 2.1376358810611316 [2565, 766]\n",
      "HIGHDEG 3 41.07 2.1700758515775433 [11, 2565, 766]\n",
      "SimpleDiscount 3 40.94 2.5628557084627297 [2565, 766, 11]\n",
      "Simple Greedy Detail 0 2565 (14.35, 1.3265522680995274)\n",
      "Simple Greedy Detail 1 11 (29.28, 2.6507259129529026)\n",
      "Simple Greedy Detail 2 766 (40.93, 2.491013496872307)\n",
      "GENGREEDY 3 41.01 2.2382642199704663 [2565, 11, 766]\n",
      "HIGHDEG 4 53.99 2.721859981409771 [457, 11, 766, 2565]\n",
      "SimpleDiscount 4 52.91 3.0247690077756353 [2565, 766, 11, 457]\n",
      "Simple Greedy Detail 0 766 (14.48, 1.6913971010971967)\n",
      "Simple Greedy Detail 1 2565 (28.87, 1.721155672680423)\n",
      "Simple Greedy Detail 2 457 (41.71, 2.359223756747121)\n",
      "Simple Greedy Detail 3 11 (51.89, 2.7935184922244565)\n",
      "GENGREEDY 4 52.46 2.8104541082181007 [766, 2565, 457, 11]\n",
      "HIGHDEG 5 62.51 2.829400360217691 [2688, 457, 11, 766, 2565]\n",
      "SimpleDiscount 5 65.83 2.7663169481460366 [2565, 766, 11, 457, 2688]\n",
      "Simple Greedy Detail 0 2565 (14.62, 1.317953902684005)\n",
      "Simple Greedy Detail 1 11 (28.84, 1.987969554696449)\n",
      "Simple Greedy Detail 2 457 (43.78, 2.51943190930019)\n",
      "Simple Greedy Detail 3 766 (53.93, 2.527602959643781)\n",
      "Simple Greedy Detail 4 1549 (65.76, 2.926132307056535)\n",
      "GENGREEDY 5 60.03 2.460788391064945 [2565, 11, 457, 766, 1549]\n",
      "HIGHDEG 6 74.67 3.2047114842993283 [1166, 11, 2688, 766, 2565, 457]\n",
      "SimpleDiscount 6 74.7 2.919347461334467 [2565, 766, 11, 457, 2688, 1166]\n",
      "Simple Greedy Detail 0 766 (14.42, 1.2623921647412106)\n",
      "Simple Greedy Detail 1 2565 (27.7, 1.7175461100069485)\n",
      "Simple Greedy Detail 2 11 (42.29, 2.3600377824094254)\n",
      "Simple Greedy Detail 3 2688 (53.19, 2.5491599052236795)\n",
      "Simple Greedy Detail 4 457 (64.19, 2.8598132915279626)\n",
      "Simple Greedy Detail 5 1166 (76.42, 2.9343995190839296)\n",
      "GENGREEDY 6 73.77 3.098766198602276 [766, 2565, 11, 2688, 457, 1166]\n",
      "HIGHDEG 7 82.91 3.0581144567200225 [1549, 1166, 2688, 766, 11, 457, 2565]\n",
      "SimpleDiscount 7 82.42 2.97896530654521 [2565, 766, 11, 457, 2688, 1166, 1549]\n",
      "Simple Greedy Detail 0 2565 (14.35, 1.2235094932202202)\n",
      "Simple Greedy Detail 1 766 (29.38, 1.990105667948313)\n",
      "Simple Greedy Detail 2 11 (40.63, 2.2108339534211967)\n",
      "Simple Greedy Detail 3 2688 (52.61, 2.6806745953957187)\n",
      "Simple Greedy Detail 4 457 (67.2, 2.697119530165469)\n",
      "Simple Greedy Detail 5 813 (73.31, 2.893466554567376)\n",
      "Simple Greedy Detail 6 1151 (80.0, 3.153103360183424)\n",
      "GENGREEDY 7 78.16 3.0771026226630793 [2565, 766, 11, 2688, 457, 813, 1151]\n",
      "HIGHDEG 8 89.62 2.8249550101904277 [1151, 1549, 1166, 2688, 11, 766, 2565, 457]\n",
      "SimpleDiscount 8 92.62 3.2041989840832295 [2565, 766, 11, 457, 2688, 1166, 1549, 1151]\n",
      "Simple Greedy Detail 0 2565 (16.08, 1.55907620647613)\n",
      "Simple Greedy Detail 1 766 (28.83, 1.879159646650598)\n",
      "Simple Greedy Detail 2 457 (43.62, 2.713135619463207)\n",
      "Simple Greedy Detail 3 11 (52.61, 2.6637106686725565)\n",
      "Simple Greedy Detail 4 2688 (66.03, 2.8942311976758184)\n",
      "Simple Greedy Detail 5 311 (74.12, 2.9172122736612773)\n",
      "Simple Greedy Detail 6 1166 (82.77, 2.9835623193759497)\n",
      "Simple Greedy Detail 7 1608 (88.45, 3.5676711227353897)\n",
      "GENGREEDY 8 84.88 3.2491432608612385 [2565, 766, 457, 11, 2688, 311, 1166, 1608]\n",
      "HIGHDEG 9 96.55 2.966843784225924 [1374, 1151, 1166, 1549, 11, 766, 2688, 2565, 457]\n",
      "SimpleDiscount 9 97.16 3.4909707404101793 [2565, 766, 11, 457, 2688, 1166, 1549, 1151, 1374]\n",
      "Simple Greedy Detail 0 766 (15.51, 1.6715238073087684)\n",
      "Simple Greedy Detail 1 2565 (28.98, 2.326872509098855)\n",
      "Simple Greedy Detail 2 2688 (41.07, 2.4954818215326675)\n",
      "Simple Greedy Detail 3 457 (52.62, 2.8177384281724946)\n",
      "Simple Greedy Detail 4 11 (66.62, 3.2468368744980083)\n",
      "Simple Greedy Detail 5 1166 (75.59, 2.529857424915483)\n",
      "Simple Greedy Detail 6 1549 (82.61, 3.0388085504684232)\n",
      "Simple Greedy Detail 7 1151 (91.43, 3.3045919690031327)\n",
      "Simple Greedy Detail 8 2658 (99.25, 3.278110986528675)\n",
      "GENGREEDY 9 96.3 3.1747765149692038 [766, 2565, 2688, 457, 11, 1166, 1549, 1151, 2658]\n"
     ]
    }
   ],
   "source": [
    "#file = 'facebook_combined.txt'\n",
    "#G = nx.read_edgelist(file, comments='#', delimiter=' ', create_using=nx.Graph(), nodetype=int, data=False)\n",
    "\n",
    "file = 'wiki-Vote.txt'\n",
    "G = nx.read_edgelist(file, comments='#', delimiter='\\t', create_using=nx.DiGraph(), nodetype=int, data=False)\n",
    "# G = nx.read_edgelist(file, comments='#', delimiter=' ', create_using=nx.Graph(), nodetype=int, data=False)\n",
    "\n",
    "# a dictionary by key k, to be jsoned\n",
    "#data_dump = {}\n",
    "\n",
    "# non-generator calls\n",
    "for k in range(1, 10):\n",
    "\tA = list(map(lambda x: x[1], high_degree_nodes(k, G)))        # heuristic 1: HIGHDEG\n",
    "\tres = evaluate(G, A, 0.01, 100, 'IC')\n",
    "\tprint('HIGHDEG', len(A), res[0], res[2], A, sep=' ')                       # k, mean, CI95, the seed set\n",
    "\tA = single_discount_high_degree_nodes(k, G)                   # heuristic 2: SDISC\n",
    "\tres = evaluate(G, A, 0.01, 100, 'IC')\n",
    "\tprint('SimpleDiscount', len(A), res[0], res[2], A, sep=' ')                       # k, mean, CI95, the seed set\n",
    "\tA,_=general_greedy(k, G, 0.01, 100, 'IC')                       # heuristic 3: GENGREEDY\t\n",
    "\tres = evaluate(G, A, 0.01, 100, 'IC')\n",
    "\tprint('GENGREEDY', len(A), res[0], res[2], A, sep=' ')                       # k, mean, CI95, the seed set\n",
    "#\tdata_dump[len(A)] = (res[0], res[2], A)\n",
    "\n",
    "#with open('data.txt', 'w') as F:\n",
    "#\tjson.dump(data_dump, F)\n",
    "\n"
   ]
  },
  {
   "cell_type": "code",
   "execution_count": null,
   "metadata": {
    "collapsed": true
   },
   "outputs": [],
   "source": []
  }
 ],
 "metadata": {
  "kernelspec": {
   "display_name": "Python 3",
   "language": "python",
   "name": "python3"
  },
  "language_info": {
   "codemirror_mode": {
    "name": "ipython",
    "version": 3
   },
   "file_extension": ".py",
   "mimetype": "text/x-python",
   "name": "python",
   "nbconvert_exporter": "python",
   "pygments_lexer": "ipython3",
   "version": "3.7.4"
  }
 },
 "nbformat": 4,
 "nbformat_minor": 2
}
